{
  "nbformat": 4,
  "nbformat_minor": 0,
  "metadata": {
    "colab": {
      "provenance": []
    },
    "kernelspec": {
      "name": "python3",
      "display_name": "Python 3"
    },
    "language_info": {
      "name": "python"
    }
  },
  "cells": [
    {
      "cell_type": "code",
      "execution_count": null,
      "metadata": {
        "id": "SL8Q8cvcX1cF"
      },
      "outputs": [],
      "source": [
        "#CMSC 516(NLP) - Twitter Framework\n",
        "#Jasleen Kaur\n",
        "#Samah Ahmad\n",
        "\n",
        "import tweepy\n",
        "import pandas as pd\n"
      ]
    },
    {
      "cell_type": "code",
      "source": [
        "consumerKey = \""\n",
        "consumerSecret = \""\n",
        "accessKey = \""\n",
        "accessSecret = \""\n",
        "\n",
        "auth = tweepy.OAuthHandler(consumerKey, consumerSecret)\n",
        "auth.set_access_token(accessKey, accessSecret)\n",
        "api = tweepy.API(auth, wait_on_rate_limit=True)\n",
        "\n",
        "\n",
        "\n"
      ],
      "metadata": {
        "id": "kCkCRXAwcetT"
      },
      "execution_count": null,
      "outputs": []
    },
    {
      "cell_type": "code",
      "source": [
        "#function to extract the tweets\n",
        "def get_tweets(word):\n",
        "  tweet_list=[]\n",
        "  tweets = tweepy.Cursor(api.search, q = word, lang=\"en\", tweet_mode='extended').items(5)\n",
        "  for tweet in tweets:\n",
        "    tweet_list.append(tweet.full_text)\n",
        "  return tweet_list"
      ],
      "metadata": {
        "id": "xnO1Tl5ymUWA"
      },
      "execution_count": null,
      "outputs": []
    },
    {
      "cell_type": "code",
      "source": [
        "#search tweets by using user account\n",
        "#get_tweets(\"@elonmusk\")\n",
        "#search by using hashtag\n",
        "get_tweets(\"#2022\")\n",
        "#search by using keyword\n",
        "#get_tweets(\"2022\")\n"
      ],
      "metadata": {
        "colab": {
          "base_uri": "https://localhost:8080/"
        },
        "id": "2VrpmdLUppiR",
        "outputId": "02e1eaf9-fac8-47c8-bec2-7236da076e8f"
      },
      "execution_count": null,
      "outputs": [
        {
          "output_type": "execute_result",
          "data": {
            "text/plain": [
              "['RT @cdnzarecords: JAY B The 2nd EP ALBUM [Be Yourself] Track List\\n2022.09.21 6PM\\n\\n#JAYB #제이비 #카덴차 #CDNZA\\n#2NDEP #BeYourself #JayB_BeYoursel…',\n",
              " 'Simping for Steve Harrington was not in my 2022 bingo but here I am, simping for not just one, but two Steves now \\U0001f9cd🏼\\u200d♀️ Lord have mercy',\n",
              " \"RT @SerebiiNet: Serebii Update: The code for the Ash's Lucario distribution in Pokémon Sword &amp; Shield has been revealed. \\nCode: HAD0UW0CATC…\",\n",
              " 'RT @uyocityhikers: Take your malaria drugs oo. Complete your course of treatment.\\nTake your painkillers.\\nTake your vitamins and supplements…',\n",
              " \"RT @TrollFootball: Italy's kit for World Cup 2022 🔥😍 https://t.co/C52Drjm5Hp\"]"
            ]
          },
          "metadata": {},
          "execution_count": 4
        }
      ]
    }
  ]
}
