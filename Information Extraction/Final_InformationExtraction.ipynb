{
  "cells": [
    {
      "cell_type": "markdown",
      "source": [
        "#Team member(s): Jasleen and Samah"
      ],
      "metadata": {
        "id": "NP7_qFHHE6-s"
      }
    },
    {
      "cell_type": "code",
      "execution_count": null,
      "metadata": {
        "id": "F1RbyPOFHzlw",
        "colab": {
          "base_uri": "https://localhost:8080/"
        },
        "outputId": "4b133992-f88e-4cb5-c68e-5397b54a1a31"
      },
      "outputs": [
        {
          "output_type": "stream",
          "name": "stdout",
          "text": [
            "Looking in indexes: https://pypi.org/simple, https://us-python.pkg.dev/colab-wheels/public/simple/\n",
            "Requirement already satisfied: numpy==1.18.5 in /usr/local/lib/python3.7/dist-packages (1.18.5)\n"
          ]
        }
      ],
      "source": [
        "!pip install -U numpy==1.18.5"
      ]
    },
    {
      "cell_type": "code",
      "execution_count": null,
      "metadata": {
        "id": "zCT7PmWUDGN0",
        "colab": {
          "base_uri": "https://localhost:8080/"
        },
        "outputId": "0819cffd-b277-4067-bc78-6faa61c2cad0"
      },
      "outputs": [
        {
          "output_type": "stream",
          "name": "stdout",
          "text": [
            "Looking in indexes: https://pypi.org/simple, https://us-python.pkg.dev/colab-wheels/public/simple/\n",
            "Collecting tensorflow==1.15\n",
            "  Downloading tensorflow-1.15.0-cp37-cp37m-manylinux2010_x86_64.whl (412.3 MB)\n",
            "\u001b[K     |████████████████████████████████| 412.3 MB 27 kB/s \n",
            "\u001b[?25hCollecting tensorboard<1.16.0,>=1.15.0\n",
            "  Downloading tensorboard-1.15.0-py3-none-any.whl (3.8 MB)\n",
            "\u001b[K     |████████████████████████████████| 3.8 MB 79.4 MB/s \n",
            "\u001b[?25hRequirement already satisfied: grpcio>=1.8.6 in /usr/local/lib/python3.7/dist-packages (from tensorflow==1.15) (1.50.0)\n",
            "Collecting keras-applications>=1.0.8\n",
            "  Downloading Keras_Applications-1.0.8-py3-none-any.whl (50 kB)\n",
            "\u001b[K     |████████████████████████████████| 50 kB 7.5 MB/s \n",
            "\u001b[?25hRequirement already satisfied: astor>=0.6.0 in /usr/local/lib/python3.7/dist-packages (from tensorflow==1.15) (0.8.1)\n",
            "Collecting tensorflow-estimator==1.15.1\n",
            "  Downloading tensorflow_estimator-1.15.1-py2.py3-none-any.whl (503 kB)\n",
            "\u001b[K     |████████████████████████████████| 503 kB 96.7 MB/s \n",
            "\u001b[?25hRequirement already satisfied: keras-preprocessing>=1.0.5 in /usr/local/lib/python3.7/dist-packages (from tensorflow==1.15) (1.1.2)\n",
            "Requirement already satisfied: numpy<2.0,>=1.16.0 in /usr/local/lib/python3.7/dist-packages (from tensorflow==1.15) (1.18.5)\n",
            "Requirement already satisfied: absl-py>=0.7.0 in /usr/local/lib/python3.7/dist-packages (from tensorflow==1.15) (1.3.0)\n",
            "Requirement already satisfied: protobuf>=3.6.1 in /usr/local/lib/python3.7/dist-packages (from tensorflow==1.15) (3.19.6)\n",
            "Requirement already satisfied: google-pasta>=0.1.6 in /usr/local/lib/python3.7/dist-packages (from tensorflow==1.15) (0.2.0)\n",
            "Collecting gast==0.2.2\n",
            "  Downloading gast-0.2.2.tar.gz (10 kB)\n",
            "Requirement already satisfied: termcolor>=1.1.0 in /usr/local/lib/python3.7/dist-packages (from tensorflow==1.15) (2.1.0)\n",
            "Requirement already satisfied: opt-einsum>=2.3.2 in /usr/local/lib/python3.7/dist-packages (from tensorflow==1.15) (3.3.0)\n",
            "Requirement already satisfied: six>=1.10.0 in /usr/local/lib/python3.7/dist-packages (from tensorflow==1.15) (1.15.0)\n",
            "Requirement already satisfied: wrapt>=1.11.1 in /usr/local/lib/python3.7/dist-packages (from tensorflow==1.15) (1.14.1)\n",
            "Requirement already satisfied: wheel>=0.26 in /usr/local/lib/python3.7/dist-packages (from tensorflow==1.15) (0.38.4)\n",
            "Requirement already satisfied: h5py in /usr/local/lib/python3.7/dist-packages (from keras-applications>=1.0.8->tensorflow==1.15) (3.1.0)\n",
            "Requirement already satisfied: markdown>=2.6.8 in /usr/local/lib/python3.7/dist-packages (from tensorboard<1.16.0,>=1.15.0->tensorflow==1.15) (3.4.1)\n",
            "Requirement already satisfied: setuptools>=41.0.0 in /usr/local/lib/python3.7/dist-packages (from tensorboard<1.16.0,>=1.15.0->tensorflow==1.15) (57.4.0)\n",
            "Requirement already satisfied: werkzeug>=0.11.15 in /usr/local/lib/python3.7/dist-packages (from tensorboard<1.16.0,>=1.15.0->tensorflow==1.15) (1.0.1)\n",
            "Requirement already satisfied: importlib-metadata>=4.4 in /usr/local/lib/python3.7/dist-packages (from markdown>=2.6.8->tensorboard<1.16.0,>=1.15.0->tensorflow==1.15) (4.13.0)\n",
            "Requirement already satisfied: typing-extensions>=3.6.4 in /usr/local/lib/python3.7/dist-packages (from importlib-metadata>=4.4->markdown>=2.6.8->tensorboard<1.16.0,>=1.15.0->tensorflow==1.15) (4.1.1)\n",
            "Requirement already satisfied: zipp>=0.5 in /usr/local/lib/python3.7/dist-packages (from importlib-metadata>=4.4->markdown>=2.6.8->tensorboard<1.16.0,>=1.15.0->tensorflow==1.15) (3.10.0)\n",
            "Requirement already satisfied: cached-property in /usr/local/lib/python3.7/dist-packages (from h5py->keras-applications>=1.0.8->tensorflow==1.15) (1.5.2)\n",
            "Building wheels for collected packages: gast\n",
            "  Building wheel for gast (setup.py) ... \u001b[?25l\u001b[?25hdone\n",
            "  Created wheel for gast: filename=gast-0.2.2-py3-none-any.whl size=7554 sha256=19b78b524b089bd94383757f823de7462f59f1dd8e8416f842c0b5343fe0347f\n",
            "  Stored in directory: /root/.cache/pip/wheels/21/7f/02/420f32a803f7d0967b48dd823da3f558c5166991bfd204eef3\n",
            "Successfully built gast\n",
            "Installing collected packages: tensorflow-estimator, tensorboard, keras-applications, gast, tensorflow\n",
            "  Attempting uninstall: tensorflow-estimator\n",
            "    Found existing installation: tensorflow-estimator 2.9.0\n",
            "    Uninstalling tensorflow-estimator-2.9.0:\n",
            "      Successfully uninstalled tensorflow-estimator-2.9.0\n",
            "  Attempting uninstall: tensorboard\n",
            "    Found existing installation: tensorboard 2.9.1\n",
            "    Uninstalling tensorboard-2.9.1:\n",
            "      Successfully uninstalled tensorboard-2.9.1\n",
            "  Attempting uninstall: gast\n",
            "    Found existing installation: gast 0.4.0\n",
            "    Uninstalling gast-0.4.0:\n",
            "      Successfully uninstalled gast-0.4.0\n",
            "  Attempting uninstall: tensorflow\n",
            "    Found existing installation: tensorflow 2.9.2\n",
            "    Uninstalling tensorflow-2.9.2:\n",
            "      Successfully uninstalled tensorflow-2.9.2\n",
            "\u001b[31mERROR: pip's dependency resolver does not currently take into account all the packages that are installed. This behaviour is the source of the following dependency conflicts.\n",
            "tensorflow-probability 0.17.0 requires gast>=0.3.2, but you have gast 0.2.2 which is incompatible.\n",
            "kapre 0.3.7 requires tensorflow>=2.0.0, but you have tensorflow 1.15.0 which is incompatible.\u001b[0m\n",
            "Successfully installed gast-0.2.2 keras-applications-1.0.8 tensorboard-1.15.0 tensorflow-1.15.0 tensorflow-estimator-1.15.1\n"
          ]
        }
      ],
      "source": [
        "!pip install --upgrade tensorflow==1.15"
      ]
    },
    {
      "cell_type": "code",
      "execution_count": null,
      "metadata": {
        "colab": {
          "base_uri": "https://localhost:8080/"
        },
        "id": "4k4jI5tYDoNJ",
        "outputId": "83ee976d-0f3b-421e-c1c5-c3e45d9923d7"
      },
      "outputs": [
        {
          "output_type": "stream",
          "name": "stdout",
          "text": [
            "Name: tensorflow\n",
            "Version: 1.15.0\n",
            "Summary: TensorFlow is an open source machine learning framework for everyone.\n",
            "Home-page: https://www.tensorflow.org/\n",
            "Author: Google Inc.\n",
            "Author-email: packages@tensorflow.org\n",
            "License: Apache 2.0\n",
            "Location: /usr/local/lib/python3.7/dist-packages\n",
            "Requires: gast, tensorflow-estimator, wheel, numpy, keras-preprocessing, protobuf, tensorboard, six, wrapt, astor, grpcio, google-pasta, opt-einsum, termcolor, absl-py, keras-applications\n",
            "Required-by: kapre\n"
          ]
        }
      ],
      "source": [
        "!pip3 show tensorflow"
      ]
    },
    {
      "cell_type": "code",
      "execution_count": null,
      "metadata": {
        "id": "3FFZwwso2rCm"
      },
      "outputs": [],
      "source": [
        "import pandas as pd\n",
        "import numpy as np\n",
        "import matplotlib.pyplot as plt\n",
        "import tensorflow as tf\n",
        "from tensorflow import keras\n",
        "import tensorflow_hub as hub\n",
        "from keras_preprocessing.sequence import pad_sequences\n",
        "from tensorflow.keras.utils import to_categorical\n",
        "from sklearn.model_selection import train_test_split\n",
        "from numpy.core.numeric import shape\n",
        "from sklearn import metrics"
      ]
    },
    {
      "cell_type": "markdown",
      "source": [
        "#Team member(s): Jasleen"
      ],
      "metadata": {
        "id": "5qwnUCF6E2KE"
      }
    },
    {
      "cell_type": "code",
      "execution_count": null,
      "metadata": {
        "id": "hfDX4clnGJFP"
      },
      "outputs": [],
      "source": [
        "# parts of the code come from:\n",
        "#https://www.depends-on-the-definition.com/named-entity-recognition-with-residual-lstm-and-elmo/ ,\n",
        "#https://www.analyticsvidhya.com/blog/2019/03/learn-to-use-elmo-to-extract-features-from-text/ ,\n",
        "#https://tfhub.dev/google/elmo/3\n",
        "#https://www.insofe.edu.in/insights/how-to-use-elmo-embedding-in-bidirectional-lstm-model-architecture/\n",
        "  \n",
        "#config parameter\n",
        "max_len=128\n",
        "epochs =5\n",
        "batch_size =32"
      ]
    },
    {
      "cell_type": "code",
      "execution_count": null,
      "metadata": {
        "colab": {
          "base_uri": "https://localhost:8080/",
          "height": 206
        },
        "id": "mo-NDZlUXtPa",
        "outputId": "95ee58bf-db63-4c10-c3c7-bb7c78baa9dd"
      },
      "outputs": [
        {
          "output_type": "execute_result",
          "data": {
            "text/plain": [
              "    Sentence #           Word  POS Tag\n",
              "0  Sentence: 1      Thousands  NNS   O\n",
              "1  Sentence: 1             of   IN   O\n",
              "2  Sentence: 1  demonstrators  NNS   O\n",
              "3  Sentence: 1           have  VBP   O\n",
              "4  Sentence: 1        marched  VBN   O"
            ],
            "text/html": [
              "\n",
              "  <div id=\"df-82ffc1e4-4557-45c4-8f19-9498ca324ad6\">\n",
              "    <div class=\"colab-df-container\">\n",
              "      <div>\n",
              "<style scoped>\n",
              "    .dataframe tbody tr th:only-of-type {\n",
              "        vertical-align: middle;\n",
              "    }\n",
              "\n",
              "    .dataframe tbody tr th {\n",
              "        vertical-align: top;\n",
              "    }\n",
              "\n",
              "    .dataframe thead th {\n",
              "        text-align: right;\n",
              "    }\n",
              "</style>\n",
              "<table border=\"1\" class=\"dataframe\">\n",
              "  <thead>\n",
              "    <tr style=\"text-align: right;\">\n",
              "      <th></th>\n",
              "      <th>Sentence #</th>\n",
              "      <th>Word</th>\n",
              "      <th>POS</th>\n",
              "      <th>Tag</th>\n",
              "    </tr>\n",
              "  </thead>\n",
              "  <tbody>\n",
              "    <tr>\n",
              "      <th>0</th>\n",
              "      <td>Sentence: 1</td>\n",
              "      <td>Thousands</td>\n",
              "      <td>NNS</td>\n",
              "      <td>O</td>\n",
              "    </tr>\n",
              "    <tr>\n",
              "      <th>1</th>\n",
              "      <td>Sentence: 1</td>\n",
              "      <td>of</td>\n",
              "      <td>IN</td>\n",
              "      <td>O</td>\n",
              "    </tr>\n",
              "    <tr>\n",
              "      <th>2</th>\n",
              "      <td>Sentence: 1</td>\n",
              "      <td>demonstrators</td>\n",
              "      <td>NNS</td>\n",
              "      <td>O</td>\n",
              "    </tr>\n",
              "    <tr>\n",
              "      <th>3</th>\n",
              "      <td>Sentence: 1</td>\n",
              "      <td>have</td>\n",
              "      <td>VBP</td>\n",
              "      <td>O</td>\n",
              "    </tr>\n",
              "    <tr>\n",
              "      <th>4</th>\n",
              "      <td>Sentence: 1</td>\n",
              "      <td>marched</td>\n",
              "      <td>VBN</td>\n",
              "      <td>O</td>\n",
              "    </tr>\n",
              "  </tbody>\n",
              "</table>\n",
              "</div>\n",
              "      <button class=\"colab-df-convert\" onclick=\"convertToInteractive('df-82ffc1e4-4557-45c4-8f19-9498ca324ad6')\"\n",
              "              title=\"Convert this dataframe to an interactive table.\"\n",
              "              style=\"display:none;\">\n",
              "        \n",
              "  <svg xmlns=\"http://www.w3.org/2000/svg\" height=\"24px\"viewBox=\"0 0 24 24\"\n",
              "       width=\"24px\">\n",
              "    <path d=\"M0 0h24v24H0V0z\" fill=\"none\"/>\n",
              "    <path d=\"M18.56 5.44l.94 2.06.94-2.06 2.06-.94-2.06-.94-.94-2.06-.94 2.06-2.06.94zm-11 1L8.5 8.5l.94-2.06 2.06-.94-2.06-.94L8.5 2.5l-.94 2.06-2.06.94zm10 10l.94 2.06.94-2.06 2.06-.94-2.06-.94-.94-2.06-.94 2.06-2.06.94z\"/><path d=\"M17.41 7.96l-1.37-1.37c-.4-.4-.92-.59-1.43-.59-.52 0-1.04.2-1.43.59L10.3 9.45l-7.72 7.72c-.78.78-.78 2.05 0 2.83L4 21.41c.39.39.9.59 1.41.59.51 0 1.02-.2 1.41-.59l7.78-7.78 2.81-2.81c.8-.78.8-2.07 0-2.86zM5.41 20L4 18.59l7.72-7.72 1.47 1.35L5.41 20z\"/>\n",
              "  </svg>\n",
              "      </button>\n",
              "      \n",
              "  <style>\n",
              "    .colab-df-container {\n",
              "      display:flex;\n",
              "      flex-wrap:wrap;\n",
              "      gap: 12px;\n",
              "    }\n",
              "\n",
              "    .colab-df-convert {\n",
              "      background-color: #E8F0FE;\n",
              "      border: none;\n",
              "      border-radius: 50%;\n",
              "      cursor: pointer;\n",
              "      display: none;\n",
              "      fill: #1967D2;\n",
              "      height: 32px;\n",
              "      padding: 0 0 0 0;\n",
              "      width: 32px;\n",
              "    }\n",
              "\n",
              "    .colab-df-convert:hover {\n",
              "      background-color: #E2EBFA;\n",
              "      box-shadow: 0px 1px 2px rgba(60, 64, 67, 0.3), 0px 1px 3px 1px rgba(60, 64, 67, 0.15);\n",
              "      fill: #174EA6;\n",
              "    }\n",
              "\n",
              "    [theme=dark] .colab-df-convert {\n",
              "      background-color: #3B4455;\n",
              "      fill: #D2E3FC;\n",
              "    }\n",
              "\n",
              "    [theme=dark] .colab-df-convert:hover {\n",
              "      background-color: #434B5C;\n",
              "      box-shadow: 0px 1px 3px 1px rgba(0, 0, 0, 0.15);\n",
              "      filter: drop-shadow(0px 1px 2px rgba(0, 0, 0, 0.3));\n",
              "      fill: #FFFFFF;\n",
              "    }\n",
              "  </style>\n",
              "\n",
              "      <script>\n",
              "        const buttonEl =\n",
              "          document.querySelector('#df-82ffc1e4-4557-45c4-8f19-9498ca324ad6 button.colab-df-convert');\n",
              "        buttonEl.style.display =\n",
              "          google.colab.kernel.accessAllowed ? 'block' : 'none';\n",
              "\n",
              "        async function convertToInteractive(key) {\n",
              "          const element = document.querySelector('#df-82ffc1e4-4557-45c4-8f19-9498ca324ad6');\n",
              "          const dataTable =\n",
              "            await google.colab.kernel.invokeFunction('convertToInteractive',\n",
              "                                                     [key], {});\n",
              "          if (!dataTable) return;\n",
              "\n",
              "          const docLinkHtml = 'Like what you see? Visit the ' +\n",
              "            '<a target=\"_blank\" href=https://colab.research.google.com/notebooks/data_table.ipynb>data table notebook</a>'\n",
              "            + ' to learn more about interactive tables.';\n",
              "          element.innerHTML = '';\n",
              "          dataTable['output_type'] = 'display_data';\n",
              "          await google.colab.output.renderOutput(dataTable, element);\n",
              "          const docLink = document.createElement('div');\n",
              "          docLink.innerHTML = docLinkHtml;\n",
              "          element.appendChild(docLink);\n",
              "        }\n",
              "      </script>\n",
              "    </div>\n",
              "  </div>\n",
              "  "
            ]
          },
          "metadata": {},
          "execution_count": 3
        }
      ],
      "source": [
        "#import and prepare the dataset\n",
        "data = pd.read_csv('/ner_dataset.csv', encoding='latin1')\n",
        "data.fillna(method = 'ffill',inplace = True)\n",
        "#check and drop null values\n",
        "data = data.dropna()\n",
        "data.isnull().values.any() \n",
        "data.head()"
      ]
    },
    {
      "cell_type": "code",
      "execution_count": null,
      "metadata": {
        "id": "KN6ONhmzeIHS"
      },
      "outputs": [],
      "source": [
        "#creat a list of unique word and add paded element \n",
        "words = list(set(data[\"Word\"].values))\n",
        "words.append(\"ENDPAD\")\n",
        "n_words = len(words) \n",
        "#creat a list of unique tages and add paded element\n",
        "tags = list(set(data[\"Tag\"].values))\n",
        "n_tags = len(tags)\n",
        "# print(n_tags)\n",
        "# print(n_words)"
      ]
    },
    {
      "cell_type": "code",
      "execution_count": null,
      "metadata": {
        "id": "clIYl-yxr37K"
      },
      "outputs": [],
      "source": [
        "# aggregate words and tages of each sentence \n",
        "agg_func = lambda s: [(w, p) for w, p in zip(s[\"Word\"].values.tolist(),s[\"Tag\"].values.tolist())]\n",
        "sentences_tags = data.groupby(\"Sentence #\").apply(agg_func)\n",
        "sentences = [s for s in sentences_tags]\n",
        "#print(sentences[0])"
      ]
    },
    {
      "cell_type": "code",
      "execution_count": null,
      "metadata": {
        "id": "k7EG2rhX0jEy"
      },
      "outputs": [],
      "source": [
        "#store the words of each sentence in a list(X represents list of sentences and each sentence represent list of words)\n",
        "X = [[w[0] for w in s] for s in sentences]\n",
        "# assign each tage a numeric value\n",
        "tag2idx = {t: i for i, t in enumerate(tags)}\n",
        "# print(X[0])\n",
        "# print(tag2idx)"
      ]
    },
    {
      "cell_type": "code",
      "execution_count": null,
      "metadata": {
        "id": "q8BKPvygUASn"
      },
      "outputs": [],
      "source": [
        "#pad each sentence to the max_len\n",
        "new_X = []\n",
        "for seq in X:\n",
        "    new_seq = []\n",
        "    for i in range(max_len):\n",
        "        try:\n",
        "            new_seq.append(seq[i])\n",
        "        except:\n",
        "            new_seq.append(\"__PAD__\")\n",
        "    new_X.append(new_seq)\n",
        "X = new_X"
      ]
    },
    {
      "cell_type": "code",
      "execution_count": null,
      "metadata": {
        "id": "k5nzaL7c1AM2"
      },
      "outputs": [],
      "source": [
        "#replace each tage with its numeric value\n",
        "y = [[tag2idx[w[1]] for w in s] for s in sentences]\n",
        "#pad the tages of each sentence to the max_len\n",
        "y = pad_sequences(maxlen=max_len, sequences= y, padding=\"post\", value=tag2idx['O'])\n",
        "#convert tages to on_hot_vectors\n",
        "y = [to_categorical(i,num_classes = n_tags) for i in y]\n",
        "#print(y[0])"
      ]
    },
    {
      "cell_type": "code",
      "execution_count": null,
      "metadata": {
        "id": "3PyZR9Hg2kFt"
      },
      "outputs": [],
      "source": [
        "#split the data into train, test, and validation\n",
        "# train -> 75%, validation -> 15%, test -> 10% \n",
        "x_main, x_test, y_main, y_test  = train_test_split(X, y,\n",
        "                                                            random_state=2020, test_size=0.1)\n",
        "x_train, x_val, y_train, y_val  = train_test_split(x_main, y_main,\n",
        "                                                            random_state=2020, test_size=0.15)"
      ]
    },
    {
      "cell_type": "code",
      "execution_count": null,
      "metadata": {
        "id": "3JdLc9iiiX-2"
      },
      "outputs": [],
      "source": [
        "# print(np.shape(x_train))\n",
        "# print(np.shape(y_train))\n",
        "# print(np.shape(x_test))\n",
        "# print(np.shape(y_test))\n",
        "# print(np.shape(x_val))\n",
        "# print(np.shape(y_val))"
      ]
    },
    {
      "cell_type": "code",
      "execution_count": null,
      "metadata": {
        "id": "DDNMMe4mPA5h"
      },
      "outputs": [],
      "source": [
        "# initalize tensorflow session\n",
        "sess = tf.Session()\n",
        "keras.backend.set_session(sess)"
      ]
    },
    {
      "cell_type": "code",
      "execution_count": null,
      "metadata": {
        "id": "WXkOhyxv3w7A"
      },
      "outputs": [],
      "source": [
        "#load elmo model from tensorflow\n",
        "elmo_model = hub.Module(\"https://tfhub.dev/google/elmo/3\", trainable=True)\n",
        "sess.run(tf.global_variables_initializer())\n",
        "sess.run(tf.tables_initializer())"
      ]
    },
    {
      "cell_type": "code",
      "execution_count": null,
      "metadata": {
        "id": "PIAAz56q6EF6"
      },
      "outputs": [],
      "source": [
        "# Elmo function that can be used to represent word imbedding in our neural network\n",
        "def ElmoEmbedding(x):\n",
        "    return elmo_model(inputs={\n",
        "                            \"tokens\": tf.squeeze(tf.cast(x, tf.string)), #tokenes of each sentences\n",
        "                            \"sequence_len\": tf.constant(batch_size*[max_len]) # the length of tokens for each sentence\n",
        "                      },\n",
        "                      signature=\"tokens\",\n",
        "                      as_dict=True)[\"elmo\"]"
      ]
    },
    {
      "cell_type": "code",
      "source": [
        "# check the output of Elmo function\n",
        "elmo_example = elmo_model(['Elon Musk now owns Twitter'],\n",
        "    signature=\"default\",\n",
        "    as_dict=True)[\"elmo\"]"
      ],
      "metadata": {
        "id": "qmoNRoAG-F_Q"
      },
      "execution_count": null,
      "outputs": []
    },
    {
      "cell_type": "code",
      "source": [
        "# print the shape of input and the embedding of the second word in the sentence\n",
        "print('Elmo output shape------>', elmo_example) \n",
        "print('The embeding of Musk------>' , sess.run(elmo_example[0][1]))"
      ],
      "metadata": {
        "colab": {
          "base_uri": "https://localhost:8080/"
        },
        "id": "-eJXnZCBAtKA",
        "outputId": "73699b10-26ac-45d2-b8dd-db624b5513f3"
      },
      "execution_count": null,
      "outputs": [
        {
          "output_type": "stream",
          "name": "stdout",
          "text": [
            "Elmo output shape------> Tensor(\"module_apply_default/aggregation/mul_3:0\", shape=(1, 5, 1024), dtype=float32)\n",
            "The embeding of Musk------> [-0.44626933 -0.03228204 -0.00986907 ... -0.03574952 -0.39661378\n",
            "  0.01809607]\n"
          ]
        }
      ]
    },
    {
      "cell_type": "markdown",
      "source": [
        "#Team member(s): Samah"
      ],
      "metadata": {
        "id": "VQGlgVzvFGl4"
      }
    },
    {
      "cell_type": "code",
      "execution_count": null,
      "metadata": {
        "id": "7S4i-qYsjhem"
      },
      "outputs": [],
      "source": [
        "# Elmo requires all the batches to have the same length so we split the data based on that\n",
        "split_tr = (np.shape(x_train)[0]//batch_size)*batch_size\n",
        "split_val = (np.shape(x_val)[0]//batch_size)*batch_size\n",
        "split_te = (np.shape(x_test)[0]//batch_size)*batch_size"
      ]
    },
    {
      "cell_type": "code",
      "execution_count": null,
      "metadata": {
        "id": "UMlUEnNr6oa_"
      },
      "outputs": [],
      "source": [
        "# neural network model using keras layers from tensorflow\n",
        "# the model takes words of each sentence as input, find its word embedding using Elmo, \n",
        "#pass it through bidirectional LSTM, and return the predicted tages for each word using sofmax activiation function.\n",
        "input = tf.keras.layers.Input(shape=(max_len,), dtype=tf.string)\n",
        "embedding = tf.keras.layers.Lambda(ElmoEmbedding, output_shape=(None, 1024))(input)\n",
        "x = tf.keras.layers.Bidirectional(tf.keras.layers.LSTM(units=512, return_sequences=True,\n",
        "                       recurrent_dropout=0.2, dropout=0.2))(embedding)\n",
        "x = tf.keras.layers.TimeDistributed(tf.keras.layers.Dense(128, activation='relu', name='dense'))(x)\n",
        "output = tf.keras.layers.TimeDistributed(tf.keras.layers.Dense(n_tags, activation=\"softmax\"))(x)\n",
        "\n",
        "#final model\n",
        "model = tf.keras.Model(inputs = [input], outputs = [output])"
      ]
    },
    {
      "cell_type": "code",
      "execution_count": null,
      "metadata": {
        "colab": {
          "base_uri": "https://localhost:8080/"
        },
        "id": "LcfiDtXNJeKy",
        "outputId": "cba3b052-221e-4ecb-cd55-667152366a11"
      },
      "outputs": [
        {
          "output_type": "stream",
          "name": "stdout",
          "text": [
            "Model: \"model\"\n",
            "_________________________________________________________________\n",
            "Layer (type)                 Output Shape              Param #   \n",
            "=================================================================\n",
            "input_1 (InputLayer)         [(None, 128)]             0         \n",
            "_________________________________________________________________\n",
            "lambda (Lambda)              (32, None, 1024)          0         \n",
            "_________________________________________________________________\n",
            "bidirectional (Bidirectional (32, None, 1024)          6295552   \n",
            "_________________________________________________________________\n",
            "time_distributed (TimeDistri (None, None, 128)         131200    \n",
            "_________________________________________________________________\n",
            "time_distributed_1 (TimeDist (None, None, 17)          2193      \n",
            "=================================================================\n",
            "Total params: 6,428,945\n",
            "Trainable params: 6,428,945\n",
            "Non-trainable params: 0\n",
            "_________________________________________________________________\n"
          ]
        }
      ],
      "source": [
        "model.summary()"
      ]
    },
    {
      "cell_type": "code",
      "execution_count": null,
      "metadata": {
        "id": "0EVCePcqJevO"
      },
      "outputs": [],
      "source": [
        "#initializing optimizer, lost function, and mertics\n",
        "model.compile(optimizer='adam',\n",
        "              loss='categorical_crossentropy',\n",
        "              metrics=['accuracy'])"
      ]
    },
    {
      "cell_type": "code",
      "execution_count": null,
      "metadata": {
        "colab": {
          "base_uri": "https://localhost:8080/"
        },
        "id": "mFXQOm3FJmrV",
        "outputId": "0771d089-e587-4d18-e9b1-56b92cee7fcc"
      },
      "outputs": [
        {
          "output_type": "stream",
          "name": "stderr",
          "text": [
            "WARNING:tensorflow:From /usr/local/lib/python3.7/dist-packages/tensorflow_core/python/ops/math_grad.py:1424: where (from tensorflow.python.ops.array_ops) is deprecated and will be removed in a future version.\n",
            "Instructions for updating:\n",
            "Use tf.where in 2.0, which has the same broadcast rule as np.where\n"
          ]
        },
        {
          "output_type": "stream",
          "name": "stdout",
          "text": [
            "Train on 36672 samples, validate on 6464 samples\n",
            "Epoch 1/5\n",
            "36672/36672 [==============================] - 5199s 142ms/sample - loss: 0.0271 - acc: 0.9921 - val_loss: 0.0172 - val_acc: 0.9945\n",
            "Epoch 2/5\n",
            "36672/36672 [==============================] - 5221s 142ms/sample - loss: 0.0160 - acc: 0.9948 - val_loss: 0.0163 - val_acc: 0.9948\n",
            "Epoch 3/5\n",
            "36672/36672 [==============================] - 4985s 136ms/sample - loss: 0.0136 - acc: 0.9954 - val_loss: 0.0163 - val_acc: 0.9948\n",
            "Epoch 4/5\n",
            "36672/36672 [==============================] - 5009s 137ms/sample - loss: 0.0115 - acc: 0.9960 - val_loss: 0.0158 - val_acc: 0.9949\n",
            "Epoch 5/5\n",
            "36672/36672 [==============================] - 5031s 137ms/sample - loss: 0.0097 - acc: 0.9965 - val_loss: 0.0166 - val_acc: 0.9948\n"
          ]
        }
      ],
      "source": [
        "#Training the model \n",
        "history = model.fit(np.array(x_train[:split_tr]), np.array(y_train[:split_tr]), epochs=epochs, batch_size = batch_size, validation_data=(np.array(x_val[:split_val]),np.array(y_val[:split_val])))"
      ]
    },
    {
      "cell_type": "code",
      "execution_count": null,
      "metadata": {
        "id": "9rmVbxrLWM30"
      },
      "outputs": [],
      "source": [
        "hist = pd.DataFrame(history.history)"
      ]
    },
    {
      "cell_type": "code",
      "source": [
        "plt.plot(range(5), hist[\"acc\"], label = \"Training accuracy\")\n",
        "plt.plot(range(5), hist[\"val_acc\"], label = \"Validation accuracy\")\n",
        "plt.xlabel(\"Epoch\")\n",
        "plt.ylabel(\"Accuracy\")\n",
        "plt.legend()"
      ],
      "metadata": {
        "id": "4XKOvILNsj62",
        "colab": {
          "base_uri": "https://localhost:8080/",
          "height": 297
        },
        "outputId": "b4232ac8-0faf-40e0-feb6-1c5401f358f7"
      },
      "execution_count": null,
      "outputs": [
        {
          "output_type": "execute_result",
          "data": {
            "text/plain": [
              "<matplotlib.legend.Legend at 0x7fe451c4a850>"
            ]
          },
          "metadata": {},
          "execution_count": 36
        },
        {
          "output_type": "display_data",
          "data": {
            "text/plain": [
              "<Figure size 432x288 with 1 Axes>"
            ],
            "image/png": "[encoded data removed]"
          },
          "metadata": {
            "needs_background": "light"
          }
        }
      ]
    },
    {
      "cell_type": "code",
      "source": [
        "plt.plot(range(epochs), hist[\"loss\"], label = \"Training loss\")\n",
        "plt.plot(range(epochs), hist[\"val_loss\"], label = \"Validation loss\")\n",
        "plt.xlabel(\"Epoch\")\n",
        "plt.ylabel(\"Loss\")\n",
        "plt.legend()"
      ],
      "metadata": {
        "colab": {
          "base_uri": "https://localhost:8080/",
          "height": 297
        },
        "id": "GKacMP5W6V16",
        "outputId": "6716580b-c943-4987-e9bc-cd869caaf001"
      },
      "execution_count": null,
      "outputs": [
        {
          "output_type": "execute_result",
          "data": {
            "text/plain": [
              "<matplotlib.legend.Legend at 0x7fe451be8a90>"
            ]
          },
          "metadata": {},
          "execution_count": 37
        },
        {
          "output_type": "display_data",
          "data": {
            "text/plain": [
              "<Figure size 432x288 with 1 Axes>"
            ],
            "image/png": "[encoded data removed]"
          },
          "metadata": {
            "needs_background": "light"
          }
        }
      ]
    },
    {
      "cell_type": "code",
      "execution_count": null,
      "metadata": {
        "colab": {
          "base_uri": "https://localhost:8080/"
        },
        "id": "HLenfESqJnas",
        "outputId": "4cf23054-6304-458e-a7ac-fee1dd350652"
      },
      "outputs": [
        {
          "output_type": "stream",
          "name": "stdout",
          "text": [
            "4768/4768 [==============================] - 410s 86ms/sample - loss: 0.0167 - acc: 0.9948\n"
          ]
        },
        {
          "output_type": "execute_result",
          "data": {
            "text/plain": [
              "[0.016707165404254157, 0.99475014]"
            ]
          },
          "metadata": {},
          "execution_count": 38
        }
      ],
      "source": [
        "# Evaluate the model on testing dataset\n",
        "model.evaluate([x_test[:split_te]], [y_test[:split_te]], batch_size=batch_size)"
      ]
    },
    {
      "cell_type": "code",
      "execution_count": null,
      "metadata": {
        "id": "Cm53nDEuWaAr"
      },
      "outputs": [],
      "source": [
        "#evaluate the model prediction  \n",
        "y_predict = model.predict([x_test[:split_te]], batch_size=batch_size)\n",
        "b=y_predict.argmax(axis =-1)\n",
        "a = np.array(y_test[:split_te]).argmax(axis=-1)"
      ]
    },
    {
      "cell_type": "code",
      "source": [
        "#print calssification report\n",
        "print(metrics.classification_report(a.flatten(), b.flatten()))"
      ],
      "metadata": {
        "colab": {
          "base_uri": "https://localhost:8080/"
        },
        "id": "8AzgqsxW4InA",
        "outputId": "1fd7b442-c4f0-49f8-dc65-78c6be7d111e"
      },
      "execution_count": null,
      "outputs": [
        {
          "output_type": "stream",
          "name": "stdout",
          "text": [
            "              precision    recall  f1-score   support\n",
            "\n",
            "           0       0.22      0.18      0.20        28\n",
            "           1       0.81      0.88      0.84      1689\n",
            "           2       0.96      0.94      0.95      1617\n",
            "           3       0.78      0.79      0.78      1688\n",
            "           4       0.82      0.73      0.77       669\n",
            "           5       0.43      0.29      0.35        34\n",
            "           6       0.87      0.89      0.88      1982\n",
            "           7       0.87      0.88      0.87      3669\n",
            "           8       0.11      0.07      0.09        28\n",
            "           9       0.80      0.78      0.79       679\n",
            "          10       0.86      0.89      0.88      1705\n",
            "          11       0.58      0.41      0.48        17\n",
            "          12       0.76      0.75      0.75      2023\n",
            "          13       0.10      0.13      0.11        23\n",
            "          14       0.40      0.29      0.33         7\n",
            "          15       1.00      0.43      0.60        21\n",
            "          16       1.00      1.00      1.00    594425\n",
            "\n",
            "    accuracy                           0.99    610304\n",
            "   macro avg       0.67      0.61      0.63    610304\n",
            "weighted avg       0.99      0.99      0.99    610304\n",
            "\n"
          ]
        }
      ]
    },
    {
      "cell_type": "code",
      "source": [
        "from sklearn.metrics import multilabel_confusion_matrix\n",
        "cm = multilabel_confusion_matrix(a.flatten(), b.flatten())\n",
        "cm"
      ],
      "metadata": {
        "colab": {
          "base_uri": "https://localhost:8080/"
        },
        "id": "f4CDKeGz6iDB",
        "outputId": "97bad309-7e45-4652-c6ca-771d7ddb6aec"
      },
      "execution_count": null,
      "outputs": [
        {
          "output_type": "execute_result",
          "data": {
            "text/plain": [
              "array([[[610258,     18],\n",
              "        [    23,      5]],\n",
              "\n",
              "       [[608264,    351],\n",
              "        [   198,   1491]],\n",
              "\n",
              "       [[608617,     70],\n",
              "        [   105,   1512]],\n",
              "\n",
              "       [[608244,    372],\n",
              "        [   358,   1330]],\n",
              "\n",
              "       [[609525,    110],\n",
              "        [   181,    488]],\n",
              "\n",
              "       [[610257,     13],\n",
              "        [    24,     10]],\n",
              "\n",
              "       [[608061,    261],\n",
              "        [   209,   1773]],\n",
              "\n",
              "       [[606148,    487],\n",
              "        [   439,   3230]],\n",
              "\n",
              "       [[610260,     16],\n",
              "        [    26,      2]],\n",
              "\n",
              "       [[609493,    132],\n",
              "        [   149,    530]],\n",
              "\n",
              "       [[608352,    247],\n",
              "        [   184,   1521]],\n",
              "\n",
              "       [[610282,      5],\n",
              "        [    10,      7]],\n",
              "\n",
              "       [[607803,    478],\n",
              "        [   510,   1513]],\n",
              "\n",
              "       [[610254,     27],\n",
              "        [    20,      3]],\n",
              "\n",
              "       [[610294,      3],\n",
              "        [     5,      2]],\n",
              "\n",
              "       [[610283,      0],\n",
              "        [    12,      9]],\n",
              "\n",
              "       [[ 15265,    614],\n",
              "        [   751, 593674]]])"
            ]
          },
          "metadata": {},
          "execution_count": 47
        }
      ]
    }
  ],
  "metadata": {
    "accelerator": "TPU",
    "colab": {
      "provenance": [],
      "machine_shape": "hm"
    },
    "gpuClass": "premium",
    "kernelspec": {
      "display_name": "Python 3",
      "name": "python3"
    },
    "language_info": {
      "name": "python"
    }
  },
  "nbformat": 4,
  "nbformat_minor": 0
}